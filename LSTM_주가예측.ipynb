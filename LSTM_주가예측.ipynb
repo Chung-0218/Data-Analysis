{
  "nbformat": 4,
  "nbformat_minor": 0,
  "metadata": {
    "language_info": {
      "codemirror_mode": {
        "name": "ipython",
        "version": 3
      },
      "file_extension": ".py",
      "mimetype": "text/x-python",
      "name": "python",
      "nbconvert_exporter": "python",
      "pygments_lexer": "ipython3",
      "version": "3.7.9-final"
    },
    "orig_nbformat": 2,
    "kernelspec": {
      "name": "python3",
      "display_name": "Python 3.7.9 64-bit ('thegreatgaespi': conda)",
      "metadata": {
        "interpreter": {
          "hash": "e987761d876c94762b6dfe4ca0707081a3ca6ef64f8d6dc7b507d82068709d5d"
        }
      }
    },
    "colab": {
      "name": "LSTM_주가예측",
      "provenance": [],
      "collapsed_sections": [],
      "include_colab_link": true
    }
  },
  "cells": [
    {
      "cell_type": "markdown",
      "metadata": {
        "id": "view-in-github",
        "colab_type": "text"
      },
      "source": [
        "<a href=\"https://colab.research.google.com/github/Chung-0218/Toy_Project/blob/main/LSTM_%EC%A3%BC%EA%B0%80%EC%98%88%EC%B8%A1.ipynb\" target=\"_parent\"><img src=\"https://colab.research.google.com/assets/colab-badge.svg\" alt=\"Open In Colab\"/></a>"
      ]
    },
    {
      "cell_type": "code",
      "metadata": {
        "colab": {
          "base_uri": "https://localhost:8080/"
        },
        "id": "G3TGYJO7fTpk",
        "outputId": "41eea3e1-4c64-4a4b-e216-d93e430fdf82"
      },
      "source": [
        "!pip install -U finance-datareader\n",
        "# 패키지 설치 안되신 분은 위에 코드 주석해제하시고 패키지를 설치해주세요\n",
        "# ref: https://github.com/huseinzol05/Stock-Prediction-Models\n",
        "# and TGG amended some parameters and built data-pipeline which enables the code use FinanceDataReader data"
      ],
      "execution_count": null,
      "outputs": [
        {
          "output_type": "stream",
          "name": "stdout",
          "text": [
            "Collecting finance-datareader\n",
            "  Downloading finance_datareader-0.9.31-py3-none-any.whl (17 kB)\n",
            "Requirement already satisfied: tqdm in /usr/local/lib/python3.7/dist-packages (from finance-datareader) (4.62.0)\n",
            "Requirement already satisfied: pandas>=0.19.2 in /usr/local/lib/python3.7/dist-packages (from finance-datareader) (1.1.5)\n",
            "Requirement already satisfied: requests>=2.3.0 in /usr/local/lib/python3.7/dist-packages (from finance-datareader) (2.23.0)\n",
            "Requirement already satisfied: lxml in /usr/local/lib/python3.7/dist-packages (from finance-datareader) (4.2.6)\n",
            "Collecting requests-file\n",
            "  Downloading requests_file-1.5.1-py2.py3-none-any.whl (3.7 kB)\n",
            "Requirement already satisfied: pytz>=2017.2 in /usr/local/lib/python3.7/dist-packages (from pandas>=0.19.2->finance-datareader) (2018.9)\n",
            "Requirement already satisfied: numpy>=1.15.4 in /usr/local/lib/python3.7/dist-packages (from pandas>=0.19.2->finance-datareader) (1.19.5)\n",
            "Requirement already satisfied: python-dateutil>=2.7.3 in /usr/local/lib/python3.7/dist-packages (from pandas>=0.19.2->finance-datareader) (2.8.2)\n",
            "Requirement already satisfied: six>=1.5 in /usr/local/lib/python3.7/dist-packages (from python-dateutil>=2.7.3->pandas>=0.19.2->finance-datareader) (1.15.0)\n",
            "Requirement already satisfied: certifi>=2017.4.17 in /usr/local/lib/python3.7/dist-packages (from requests>=2.3.0->finance-datareader) (2021.5.30)\n",
            "Requirement already satisfied: urllib3!=1.25.0,!=1.25.1,<1.26,>=1.21.1 in /usr/local/lib/python3.7/dist-packages (from requests>=2.3.0->finance-datareader) (1.24.3)\n",
            "Requirement already satisfied: chardet<4,>=3.0.2 in /usr/local/lib/python3.7/dist-packages (from requests>=2.3.0->finance-datareader) (3.0.4)\n",
            "Requirement already satisfied: idna<3,>=2.5 in /usr/local/lib/python3.7/dist-packages (from requests>=2.3.0->finance-datareader) (2.10)\n",
            "Installing collected packages: requests-file, finance-datareader\n",
            "Successfully installed finance-datareader-0.9.31 requests-file-1.5.1\n"
          ]
        }
      ]
    },
    {
      "cell_type": "markdown",
      "metadata": {
        "id": "Yg8pb0KpfUko"
      },
      "source": [
        "# 새 섹션"
      ]
    },
    {
      "cell_type": "code",
      "metadata": {
        "id": "n1pA2voFfTps"
      },
      "source": [
        "import pandas as pd\n",
        "from sklearn import preprocessing\n",
        "import numpy as np\n",
        "import FinanceDataReader as fdr"
      ],
      "execution_count": null,
      "outputs": []
    },
    {
      "cell_type": "code",
      "metadata": {
        "id": "-Uy0pkccfTpt"
      },
      "source": [
        "def call_dataset(ticker = '005930', stt = '2018-01-01', end = '2021-09-03', history_points = 50):\n",
        "    data = fdr.DataReader(ticker, stt, end)\n",
        "    data = data.iloc[:,0:-1]\n",
        "    print('data: ', data.shape)\n",
        "    data = data.values # 값만 갖고온다\n",
        "    data_normalizer = preprocessing.MinMaxScaler() # 데이터를 0~1 범위로 점철되게 하는 함수 call\n",
        "    data_normalized = data_normalizer.fit_transform(data) # 데이터를 0~1 범위로 점철되게 함수 수행\n",
        "    print('data_normalized: ', data_normalized.shape)\n",
        "     # using the last {history_points} open close high low volume data points, predict the next open value\n",
        "    ohlcv_histories_normalized = np.array([data_normalized[i:i + history_points].copy() for i in range(len(data_normalized) - history_points)]) # ohlcv를 가지고 오되, 관찰일수 만큼 누적해서 쌓는다. (열방향으로)\n",
        "    print('ohlcv_histories_normalized: ', ohlcv_histories_normalized.shape)\n",
        "\n",
        "    next_day_open_values_normalized = np.array([data_normalized[:, 0][i + history_points].copy() for i in range(len(data_normalized) - history_points)])\n",
        "    next_day_open_values_normalized = np.expand_dims(next_day_open_values_normalized, -1) # 1XN 벡터 -> NX1 벡터로\n",
        "\n",
        "    next_day_open_values = np.array([data[:, 0][i + history_points].copy() for i in range(len(data) - history_points)])\n",
        "    next_day_open_values = np.expand_dims(next_day_open_values, -1) # 1XN 벡터 -> NX1 벡터로\n",
        "\n",
        "    y_normalizer = preprocessing.MinMaxScaler()\n",
        "    y_normalizer.fit(next_day_open_values)\n",
        "\n",
        "    # 인풋 X : 그 이전의 OHLCV (from T = -50 to T = -1)\n",
        "    # 아웃풋 y : 예측하고자 하는 주가 T = 0\n",
        "\n",
        "    def calc_ema(values, time_period):\n",
        "        # https://www.investopedia.com/ask/answers/122314/what-exponential-moving-average-ema-formula-and-how-ema-calculated.asp\n",
        "        sma = np.mean(values[:, 3])\n",
        "        ema_values = [sma]\n",
        "        k = 2 / (1 + time_period)\n",
        "        for i in range(len(his) - time_period, len(his)):\n",
        "            close = his[i][3]\n",
        "            ema_values.append(close * k + ema_values[-1] * (1 - k))\n",
        "        return ema_values[-1]\n",
        "\n",
        "    technical_indicators = []\n",
        "    for his in ohlcv_histories_normalized:\n",
        "        # note since we are using his[3] we are taking the SMA of the closing price\n",
        "        # print('his: ', his)\n",
        "        # print('his[:, 3]: ', his[:, 3])\n",
        "        sma = np.mean(his[:, 3]) # 각 데이터포인트별 Close Price 평균\n",
        "        macd = calc_ema(his, 12) - calc_ema(his, 26) # 12일 EMA - 26일 EMA\n",
        "        technical_indicators.append(np.array([sma]))\n",
        "        # technical_indicators.append(np.array([sma,macd,]))\n",
        "\n",
        "    technical_indicators = np.array(technical_indicators)\n",
        "\n",
        "    tech_ind_scaler = preprocessing.MinMaxScaler()\n",
        "    technical_indicators_normalized = tech_ind_scaler.fit_transform(technical_indicators)\n",
        "\n",
        "    technical_indicators = np.array(technical_indicators)\n",
        "\n",
        "    tech_ind_scaler = preprocessing.MinMaxScaler()\n",
        "    technical_indicators_normalized = tech_ind_scaler.fit_transform(technical_indicators)\n",
        "\n",
        "    assert ohlcv_histories_normalized.shape[0] == next_day_open_values_normalized.shape[0] == technical_indicators_normalized.shape[0]\n",
        "\n",
        "    print('ohlcv_histories_normalized.shape[0]: ', ohlcv_histories_normalized.shape[0])\n",
        "\n",
        "    return ohlcv_histories_normalized, technical_indicators_normalized, next_day_open_values_normalized, next_day_open_values, y_normalizer"
      ],
      "execution_count": null,
      "outputs": []
    },
    {
      "cell_type": "code",
      "metadata": {
        "tags": [],
        "colab": {
          "base_uri": "https://localhost:8080/"
        },
        "id": "sjlBLXFufTpu",
        "outputId": "0ac4592b-5ad8-4c4d-e3b5-c4efb7755c8a"
      },
      "source": [
        "history_points = 50\n",
        "ticker = '005930' # 분석하려는 주식\n",
        "\n",
        "import keras\n",
        "from keras.models import Model\n",
        "from keras.layers import Dense, Dropout, LSTM, Input, Activation\n",
        "from keras import optimizers\n",
        "import numpy as np\n",
        "np.random.seed(4)\n",
        "# from tensorflow import set_random_seed\n",
        "import tensorflow\n",
        "print(tensorflow.__version__)\n",
        "tensorflow.random.set_seed(44)\n",
        "# from util import csv_to_dataset, history_points\n",
        "\n",
        "# dataset\n",
        "\n",
        "ohlcv_histories, _, next_day_open_values, unscaled_y, y_normaliser = call_dataset(ticker=ticker)\n",
        "\n",
        "train_ratio = 0.7\n",
        "n = int(ohlcv_histories.shape[0] * train_ratio)\n",
        "\n",
        "ohlcv_train = ohlcv_histories[-n:-1]\n",
        "y_train = next_day_open_values[-n:-1]\n",
        "\n",
        "ohlcv_test = ohlcv_histories[:ohlcv_histories.shape[0]-n]\n",
        "y_test = next_day_open_values[:ohlcv_histories.shape[0]-n]\n",
        "\n",
        "unscaled_y_test = unscaled_y[:ohlcv_histories.shape[0]-n]\n",
        "\n",
        "print('ohlcv_train.shape: ', ohlcv_train.shape)\n",
        "print('ohlcv_test.shape: ',ohlcv_test.shape)"
      ],
      "execution_count": null,
      "outputs": [
        {
          "output_type": "stream",
          "name": "stdout",
          "text": [
            "2.6.0\n",
            "data:  (907, 5)\n",
            "data_normalized:  (907, 5)\n",
            "ohlcv_histories_normalized:  (857, 50, 5)\n",
            "ohlcv_histories_normalized.shape[0]:  857\n",
            "ohlcv_train.shape:  (598, 50, 5)\n",
            "ohlcv_test.shape:  (258, 50, 5)\n"
          ]
        }
      ]
    },
    {
      "cell_type": "code",
      "metadata": {
        "colab": {
          "base_uri": "https://localhost:8080/"
        },
        "id": "deg3j5EqfTpw",
        "outputId": "4738756f-c0e4-4c83-d405-314d1ef33e61"
      },
      "source": [
        "ohlcv_train "
      ],
      "execution_count": null,
      "outputs": [
        {
          "output_type": "execute_result",
          "data": {
            "text/plain": [
              "array([[[0.47342193, 0.44266529, 0.46759777, 0.08776844, 0.11033969],\n",
              "        [0.45791805, 0.43646694, 0.46201117, 0.08496732, 0.12259493],\n",
              "        [0.47674419, 0.44524793, 0.47318436, 0.10457516, 0.16330691],\n",
              "        ...,\n",
              "        [0.51771872, 0.48295455, 0.51173184, 0.17086835, 0.13771561],\n",
              "        [0.5110742 , 0.48657025, 0.51564246, 0.1774043 , 0.14008087],\n",
              "        [0.51993355, 0.49121901, 0.52067039, 0.17553688, 0.09463737]],\n",
              "\n",
              "       [[0.45791805, 0.43646694, 0.46201117, 0.08496732, 0.12259493],\n",
              "        [0.47674419, 0.44524793, 0.47318436, 0.10457516, 0.16330691],\n",
              "        [0.49058693, 0.46229339, 0.48882682, 0.1363212 , 0.25235699],\n",
              "        ...,\n",
              "        [0.5110742 , 0.48657025, 0.51564246, 0.1774043 , 0.14008087],\n",
              "        [0.51993355, 0.49121901, 0.52067039, 0.17553688, 0.09463737],\n",
              "        [0.52325581, 0.48811983, 0.51564246, 0.17180205, 0.09421182]],\n",
              "\n",
              "       [[0.47674419, 0.44524793, 0.47318436, 0.10457516, 0.16330691],\n",
              "        [0.49058693, 0.46229339, 0.48882682, 0.1363212 , 0.25235699],\n",
              "        [0.49833887, 0.47004132, 0.49832402, 0.14192344, 0.19930989],\n",
              "        ...,\n",
              "        [0.51993355, 0.49121901, 0.52067039, 0.17553688, 0.09463737],\n",
              "        [0.52325581, 0.48811983, 0.51564246, 0.17180205, 0.09421182],\n",
              "        [0.51716501, 0.48502066, 0.51620112, 0.17180205, 0.07617154]],\n",
              "\n",
              "       ...,\n",
              "\n",
              "       [[0.88261351, 0.82644628, 0.88938547, 0.79271709, 0.17787643],\n",
              "        [0.88815061, 0.82954545, 0.89273743, 0.7945845 , 0.13037165],\n",
              "        [0.89147287, 0.83264463, 0.89273743, 0.79645191, 0.15343965],\n",
              "        ...,\n",
              "        [0.8427464 , 0.78719008, 0.83351955, 0.69374416, 0.18461078],\n",
              "        [0.82281285, 0.77479339, 0.82458101, 0.68814192, 0.16801451],\n",
              "        [0.83499446, 0.77995868, 0.82905028, 0.69374416, 0.14048872]],\n",
              "\n",
              "       [[0.88815061, 0.82954545, 0.89273743, 0.7945845 , 0.13037165],\n",
              "        [0.89147287, 0.83264463, 0.89273743, 0.79645191, 0.15343965],\n",
              "        [0.89036545, 0.84090909, 0.89497207, 0.81699346, 0.20786042],\n",
              "        ...,\n",
              "        [0.82281285, 0.77479339, 0.82458101, 0.68814192, 0.16801451],\n",
              "        [0.83499446, 0.77995868, 0.82905028, 0.69374416, 0.14048872],\n",
              "        [0.82945736, 0.79235537, 0.8301676 , 0.73295985, 0.27274292]],\n",
              "\n",
              "       [[0.89147287, 0.83264463, 0.89273743, 0.79645191, 0.15343965],\n",
              "        [0.89036545, 0.84090909, 0.89497207, 0.81699346, 0.20786042],\n",
              "        [0.90254707, 0.84607438, 0.90726257, 0.82446312, 0.14928552],\n",
              "        ...,\n",
              "        [0.83499446, 0.77995868, 0.82905028, 0.69374416, 0.14048872],\n",
              "        [0.82945736, 0.79235537, 0.8301676 , 0.73295985, 0.27274292],\n",
              "        [0.84939092, 0.7964876 , 0.84804469, 0.73482726, 0.17844599]]])"
            ]
          },
          "metadata": {},
          "execution_count": 6
        }
      ]
    },
    {
      "cell_type": "code",
      "metadata": {
        "colab": {
          "base_uri": "https://localhost:8080/",
          "height": 244
        },
        "id": "asdN_HvQfTpw",
        "outputId": "b2ce8931-61dd-406b-8d63-46fb07d76898"
      },
      "source": [
        "# model architecture\n",
        "lstm_input = Input(shape=(history_points, 5), name='lstm_input')\n",
        "x = LSTM(50, name='lstm_0')(lstm_input)\n",
        "x = Dropout(0.2, name='lstm_dropout_0')(x)\n",
        "x = Dense(64, name='dense_0')(x)\n",
        "x = Activation('sigmoid', name='sigmoid_0')(x)\n",
        "x = Dense(1, name='dense_1')(x)\n",
        "output = Activation('linear', name='linear_output')(x)\n",
        "\n",
        "model = Model(inputs=lstm_input, outputs=output)\n",
        "adam = optimizers.Adam(lr=0.0005)\n",
        "model.compile(optimizer=adam, loss='mse')\n",
        "model.fit(x=ohlcv_train, y=y_train, batch_size=32, epochs=50, shuffle=True, validation_split=0.1)\n",
        "# evaluation\n",
        "\n",
        "y_test_predicted = model.predict(ohlcv_test)\n",
        "y_test_predicted = y_normaliser.inverse_transform(y_test_predicted)\n",
        "y_predicted = model.predict(ohlcv_histories)\n",
        "y_predicted = y_normaliser.inverse_transform(y_predicted)\n",
        "\n",
        "assert unscaled_y_test.shape == y_test_predicted.shape\n",
        "real_mse = np.mean(np.square(unscaled_y_test - y_test_predicted))\n",
        "scaled_mse = real_mse / (np.max(unscaled_y_test) - np.min(unscaled_y_test)) * 100\n",
        "print(scaled_mse)\n",
        "\n",
        "from datetime import datetime\n",
        "model.save(f'basic_model.h5')"
      ],
      "execution_count": null,
      "outputs": [
        {
          "output_type": "error",
          "ename": "AttributeError",
          "evalue": "ignored",
          "traceback": [
            "\u001b[0;31m---------------------------------------------------------------------------\u001b[0m",
            "\u001b[0;31mAttributeError\u001b[0m                            Traceback (most recent call last)",
            "\u001b[0;32m<ipython-input-7-eee6b53c93e7>\u001b[0m in \u001b[0;36m<module>\u001b[0;34m()\u001b[0m\n\u001b[1;32m      9\u001b[0m \u001b[0;34m\u001b[0m\u001b[0m\n\u001b[1;32m     10\u001b[0m \u001b[0mmodel\u001b[0m \u001b[0;34m=\u001b[0m \u001b[0mModel\u001b[0m\u001b[0;34m(\u001b[0m\u001b[0minputs\u001b[0m\u001b[0;34m=\u001b[0m\u001b[0mlstm_input\u001b[0m\u001b[0;34m,\u001b[0m \u001b[0moutputs\u001b[0m\u001b[0;34m=\u001b[0m\u001b[0moutput\u001b[0m\u001b[0;34m)\u001b[0m\u001b[0;34m\u001b[0m\u001b[0;34m\u001b[0m\u001b[0m\n\u001b[0;32m---> 11\u001b[0;31m \u001b[0madam\u001b[0m \u001b[0;34m=\u001b[0m \u001b[0moptimizers\u001b[0m\u001b[0;34m.\u001b[0m\u001b[0mAdam\u001b[0m\u001b[0;34m(\u001b[0m\u001b[0mlr\u001b[0m\u001b[0;34m=\u001b[0m\u001b[0;36m0.0005\u001b[0m\u001b[0;34m)\u001b[0m\u001b[0;34m\u001b[0m\u001b[0;34m\u001b[0m\u001b[0m\n\u001b[0m\u001b[1;32m     12\u001b[0m \u001b[0mmodel\u001b[0m\u001b[0;34m.\u001b[0m\u001b[0mcompile\u001b[0m\u001b[0;34m(\u001b[0m\u001b[0moptimizer\u001b[0m\u001b[0;34m=\u001b[0m\u001b[0madam\u001b[0m\u001b[0;34m,\u001b[0m \u001b[0mloss\u001b[0m\u001b[0;34m=\u001b[0m\u001b[0;34m'mse'\u001b[0m\u001b[0;34m)\u001b[0m\u001b[0;34m\u001b[0m\u001b[0;34m\u001b[0m\u001b[0m\n\u001b[1;32m     13\u001b[0m \u001b[0mmodel\u001b[0m\u001b[0;34m.\u001b[0m\u001b[0mfit\u001b[0m\u001b[0;34m(\u001b[0m\u001b[0mx\u001b[0m\u001b[0;34m=\u001b[0m\u001b[0mohlcv_train\u001b[0m\u001b[0;34m,\u001b[0m \u001b[0my\u001b[0m\u001b[0;34m=\u001b[0m\u001b[0my_train\u001b[0m\u001b[0;34m,\u001b[0m \u001b[0mbatch_size\u001b[0m\u001b[0;34m=\u001b[0m\u001b[0;36m32\u001b[0m\u001b[0;34m,\u001b[0m \u001b[0mepochs\u001b[0m\u001b[0;34m=\u001b[0m\u001b[0;36m50\u001b[0m\u001b[0;34m,\u001b[0m \u001b[0mshuffle\u001b[0m\u001b[0;34m=\u001b[0m\u001b[0;32mTrue\u001b[0m\u001b[0;34m,\u001b[0m \u001b[0mvalidation_split\u001b[0m\u001b[0;34m=\u001b[0m\u001b[0;36m0.1\u001b[0m\u001b[0;34m)\u001b[0m\u001b[0;34m\u001b[0m\u001b[0;34m\u001b[0m\u001b[0m\n",
            "\u001b[0;31mAttributeError\u001b[0m: module 'keras.optimizers' has no attribute 'Adam'"
          ]
        }
      ]
    },
    {
      "cell_type": "code",
      "metadata": {
        "colab": {
          "base_uri": "https://localhost:8080/",
          "height": 1000
        },
        "id": "JxmuA0wAfTpx",
        "outputId": "bdee3903-6ac7-4c0d-8216-556f6620930c"
      },
      "source": [
        "import matplotlib.pyplot as plt\n",
        "\n",
        "plt.gcf().set_size_inches(22, 15, forward=True)\n",
        "\n",
        "start = 0\n",
        "end = -1\n",
        "\n",
        "# real = plt.plot(unscaled_y_test[start:end], label='real') \n",
        "# pred = plt.plot(y_test_predicted[start:end], label='predicted')\n",
        "\n",
        "real = plt.plot(unscaled_y[start:end], label='real')\n",
        "pred = plt.plot(y_predicted[start:end], label='predicted')\n",
        "\n",
        "plt.legend(['Real', 'Predicted'])\n",
        "plt.title('Samsung Electronics Using LSTM by TGG')\n",
        "plt.show()"
      ],
      "execution_count": null,
      "outputs": [
        {
          "output_type": "error",
          "ename": "NameError",
          "evalue": "ignored",
          "traceback": [
            "\u001b[0;31m---------------------------------------------------------------------------\u001b[0m",
            "\u001b[0;31mNameError\u001b[0m                                 Traceback (most recent call last)",
            "\u001b[0;32m<ipython-input-9-e376a43b1982>\u001b[0m in \u001b[0;36m<module>\u001b[0;34m()\u001b[0m\n\u001b[1;32m     10\u001b[0m \u001b[0;34m\u001b[0m\u001b[0m\n\u001b[1;32m     11\u001b[0m \u001b[0mreal\u001b[0m \u001b[0;34m=\u001b[0m \u001b[0mplt\u001b[0m\u001b[0;34m.\u001b[0m\u001b[0mplot\u001b[0m\u001b[0;34m(\u001b[0m\u001b[0munscaled_y\u001b[0m\u001b[0;34m[\u001b[0m\u001b[0mstart\u001b[0m\u001b[0;34m:\u001b[0m\u001b[0mend\u001b[0m\u001b[0;34m]\u001b[0m\u001b[0;34m,\u001b[0m \u001b[0mlabel\u001b[0m\u001b[0;34m=\u001b[0m\u001b[0;34m'real'\u001b[0m\u001b[0;34m)\u001b[0m\u001b[0;34m\u001b[0m\u001b[0;34m\u001b[0m\u001b[0m\n\u001b[0;32m---> 12\u001b[0;31m \u001b[0mpred\u001b[0m \u001b[0;34m=\u001b[0m \u001b[0mplt\u001b[0m\u001b[0;34m.\u001b[0m\u001b[0mplot\u001b[0m\u001b[0;34m(\u001b[0m\u001b[0my_predicted\u001b[0m\u001b[0;34m[\u001b[0m\u001b[0mstart\u001b[0m\u001b[0;34m:\u001b[0m\u001b[0mend\u001b[0m\u001b[0;34m]\u001b[0m\u001b[0;34m,\u001b[0m \u001b[0mlabel\u001b[0m\u001b[0;34m=\u001b[0m\u001b[0;34m'predicted'\u001b[0m\u001b[0;34m)\u001b[0m\u001b[0;34m\u001b[0m\u001b[0;34m\u001b[0m\u001b[0m\n\u001b[0m\u001b[1;32m     13\u001b[0m \u001b[0;34m\u001b[0m\u001b[0m\n\u001b[1;32m     14\u001b[0m \u001b[0mplt\u001b[0m\u001b[0;34m.\u001b[0m\u001b[0mlegend\u001b[0m\u001b[0;34m(\u001b[0m\u001b[0;34m[\u001b[0m\u001b[0;34m'Real'\u001b[0m\u001b[0;34m,\u001b[0m \u001b[0;34m'Predicted'\u001b[0m\u001b[0;34m]\u001b[0m\u001b[0;34m)\u001b[0m\u001b[0;34m\u001b[0m\u001b[0;34m\u001b[0m\u001b[0m\n",
            "\u001b[0;31mNameError\u001b[0m: name 'y_predicted' is not defined"
          ]
        },
        {
          "output_type": "display_data",
          "data": {
            "image/png": "[encoded data removed]",
            "text/plain": [
              "<Figure size 1584x1080 with 1 Axes>"
            ]
          },
          "metadata": {
            "needs_background": "light"
          }
        }
      ]
    },
    {
      "cell_type": "code",
      "metadata": {
        "id": "K6dmNI-xfTpx",
        "colab": {
          "base_uri": "https://localhost:8080/",
          "height": 226
        },
        "outputId": "30485f4a-bb81-40d5-d50f-da7bd9849734"
      },
      "source": [
        "col_name = ['real', 'pred']\n",
        "real, pred = pd.DataFrame(unscaled_y[start:end]), pd.DataFrame(y_predicted[start:end])\n",
        "foo = pd.concat([real, pred], axis = 1)\n",
        "foo.columns = col_name"
      ],
      "execution_count": null,
      "outputs": [
        {
          "output_type": "error",
          "ename": "NameError",
          "evalue": "ignored",
          "traceback": [
            "\u001b[0;31m---------------------------------------------------------------------------\u001b[0m",
            "\u001b[0;31mNameError\u001b[0m                                 Traceback (most recent call last)",
            "\u001b[0;32m<ipython-input-10-7d0869a8c892>\u001b[0m in \u001b[0;36m<module>\u001b[0;34m()\u001b[0m\n\u001b[1;32m      1\u001b[0m \u001b[0mcol_name\u001b[0m \u001b[0;34m=\u001b[0m \u001b[0;34m[\u001b[0m\u001b[0;34m'real'\u001b[0m\u001b[0;34m,\u001b[0m \u001b[0;34m'pred'\u001b[0m\u001b[0;34m]\u001b[0m\u001b[0;34m\u001b[0m\u001b[0;34m\u001b[0m\u001b[0m\n\u001b[0;32m----> 2\u001b[0;31m \u001b[0mreal\u001b[0m\u001b[0;34m,\u001b[0m \u001b[0mpred\u001b[0m \u001b[0;34m=\u001b[0m \u001b[0mpd\u001b[0m\u001b[0;34m.\u001b[0m\u001b[0mDataFrame\u001b[0m\u001b[0;34m(\u001b[0m\u001b[0munscaled_y\u001b[0m\u001b[0;34m[\u001b[0m\u001b[0mstart\u001b[0m\u001b[0;34m:\u001b[0m\u001b[0mend\u001b[0m\u001b[0;34m]\u001b[0m\u001b[0;34m)\u001b[0m\u001b[0;34m,\u001b[0m \u001b[0mpd\u001b[0m\u001b[0;34m.\u001b[0m\u001b[0mDataFrame\u001b[0m\u001b[0;34m(\u001b[0m\u001b[0my_predicted\u001b[0m\u001b[0;34m[\u001b[0m\u001b[0mstart\u001b[0m\u001b[0;34m:\u001b[0m\u001b[0mend\u001b[0m\u001b[0;34m]\u001b[0m\u001b[0;34m)\u001b[0m\u001b[0;34m\u001b[0m\u001b[0;34m\u001b[0m\u001b[0m\n\u001b[0m\u001b[1;32m      3\u001b[0m \u001b[0mfoo\u001b[0m \u001b[0;34m=\u001b[0m \u001b[0mpd\u001b[0m\u001b[0;34m.\u001b[0m\u001b[0mconcat\u001b[0m\u001b[0;34m(\u001b[0m\u001b[0;34m[\u001b[0m\u001b[0mreal\u001b[0m\u001b[0;34m,\u001b[0m \u001b[0mpred\u001b[0m\u001b[0;34m]\u001b[0m\u001b[0;34m,\u001b[0m \u001b[0maxis\u001b[0m \u001b[0;34m=\u001b[0m \u001b[0;36m1\u001b[0m\u001b[0;34m)\u001b[0m\u001b[0;34m\u001b[0m\u001b[0;34m\u001b[0m\u001b[0m\n\u001b[1;32m      4\u001b[0m \u001b[0mfoo\u001b[0m\u001b[0;34m.\u001b[0m\u001b[0mcolumns\u001b[0m \u001b[0;34m=\u001b[0m \u001b[0mcol_name\u001b[0m\u001b[0;34m\u001b[0m\u001b[0;34m\u001b[0m\u001b[0m\n",
            "\u001b[0;31mNameError\u001b[0m: name 'y_predicted' is not defined"
          ]
        }
      ]
    },
    {
      "cell_type": "code",
      "metadata": {
        "colab": {
          "base_uri": "https://localhost:8080/",
          "height": 172
        },
        "id": "rUDrmfI7fTpy",
        "outputId": "2f928bf2-ff9f-4d9f-b243-a6960f77f615"
      },
      "source": [
        "foo"
      ],
      "execution_count": null,
      "outputs": [
        {
          "output_type": "error",
          "ename": "NameError",
          "evalue": "ignored",
          "traceback": [
            "\u001b[0;31m---------------------------------------------------------------------------\u001b[0m",
            "\u001b[0;31mNameError\u001b[0m                                 Traceback (most recent call last)",
            "\u001b[0;32m<ipython-input-11-f1d2d2f924e9>\u001b[0m in \u001b[0;36m<module>\u001b[0;34m()\u001b[0m\n\u001b[0;32m----> 1\u001b[0;31m \u001b[0mfoo\u001b[0m\u001b[0;34m\u001b[0m\u001b[0;34m\u001b[0m\u001b[0m\n\u001b[0m",
            "\u001b[0;31mNameError\u001b[0m: name 'foo' is not defined"
          ]
        }
      ]
    },
    {
      "cell_type": "code",
      "metadata": {
        "colab": {
          "base_uri": "https://localhost:8080/",
          "height": 172
        },
        "id": "OoIZyVdSfTpy",
        "outputId": "c4264220-d0b5-48fd-f416-4997a6791737"
      },
      "source": [
        "foo.corr()"
      ],
      "execution_count": null,
      "outputs": [
        {
          "output_type": "error",
          "ename": "NameError",
          "evalue": "ignored",
          "traceback": [
            "\u001b[0;31m---------------------------------------------------------------------------\u001b[0m",
            "\u001b[0;31mNameError\u001b[0m                                 Traceback (most recent call last)",
            "\u001b[0;32m<ipython-input-12-15bbb056e679>\u001b[0m in \u001b[0;36m<module>\u001b[0;34m()\u001b[0m\n\u001b[0;32m----> 1\u001b[0;31m \u001b[0mfoo\u001b[0m\u001b[0;34m.\u001b[0m\u001b[0mcorr\u001b[0m\u001b[0;34m(\u001b[0m\u001b[0;34m)\u001b[0m\u001b[0;34m\u001b[0m\u001b[0;34m\u001b[0m\u001b[0m\n\u001b[0m",
            "\u001b[0;31mNameError\u001b[0m: name 'foo' is not defined"
          ]
        }
      ]
    },
    {
      "cell_type": "code",
      "metadata": {
        "colab": {
          "base_uri": "https://localhost:8080/",
          "height": 190
        },
        "id": "i1cYgpsRfTpz",
        "outputId": "8bb131fd-de9b-487a-efb8-bd37a256c828"
      },
      "source": [
        "foo['real+1'] = foo['real'].shift(periods = 1)\n",
        "foo[['real+1', 'pred']].corr()"
      ],
      "execution_count": null,
      "outputs": [
        {
          "output_type": "error",
          "ename": "NameError",
          "evalue": "ignored",
          "traceback": [
            "\u001b[0;31m---------------------------------------------------------------------------\u001b[0m",
            "\u001b[0;31mNameError\u001b[0m                                 Traceback (most recent call last)",
            "\u001b[0;32m<ipython-input-13-d4a3e2c420e9>\u001b[0m in \u001b[0;36m<module>\u001b[0;34m()\u001b[0m\n\u001b[0;32m----> 1\u001b[0;31m \u001b[0mfoo\u001b[0m\u001b[0;34m[\u001b[0m\u001b[0;34m'real+1'\u001b[0m\u001b[0;34m]\u001b[0m \u001b[0;34m=\u001b[0m \u001b[0mfoo\u001b[0m\u001b[0;34m[\u001b[0m\u001b[0;34m'real'\u001b[0m\u001b[0;34m]\u001b[0m\u001b[0;34m.\u001b[0m\u001b[0mshift\u001b[0m\u001b[0;34m(\u001b[0m\u001b[0mperiods\u001b[0m \u001b[0;34m=\u001b[0m \u001b[0;36m1\u001b[0m\u001b[0;34m)\u001b[0m\u001b[0;34m\u001b[0m\u001b[0;34m\u001b[0m\u001b[0m\n\u001b[0m\u001b[1;32m      2\u001b[0m \u001b[0mfoo\u001b[0m\u001b[0;34m[\u001b[0m\u001b[0;34m[\u001b[0m\u001b[0;34m'real+1'\u001b[0m\u001b[0;34m,\u001b[0m \u001b[0;34m'pred'\u001b[0m\u001b[0;34m]\u001b[0m\u001b[0;34m]\u001b[0m\u001b[0;34m.\u001b[0m\u001b[0mcorr\u001b[0m\u001b[0;34m(\u001b[0m\u001b[0;34m)\u001b[0m\u001b[0;34m\u001b[0m\u001b[0;34m\u001b[0m\u001b[0m\n",
            "\u001b[0;31mNameError\u001b[0m: name 'foo' is not defined"
          ]
        }
      ]
    },
    {
      "cell_type": "code",
      "metadata": {
        "id": "pqtb4UfUlniL"
      },
      "source": [
        ""
      ],
      "execution_count": null,
      "outputs": []
    }
  ]
}